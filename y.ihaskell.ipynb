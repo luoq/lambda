{
 "metadata": {
  "language": "haskell",
  "name": "",
  "signature": "sha256:3546b7e948283d99a87b52075758b675d0c5de9ce95449dd636d3f4016f01fc4"
 },
 "nbformat": 3,
 "nbformat_minor": 0,
 "worksheets": [
  {
   "cells": [
    {
     "cell_type": "code",
     "collapsed": false,
     "input": [
      "y = \\f->(\\h->h h) (\\x->f (x x))"
     ],
     "language": "python",
     "metadata": {
      "hidden": false
     },
     "outputs": [
      {
       "html": [
        " <div class=\"suggestion-name\" style=\"clear:both;\">Redundant lambda</div>  <div class=\"suggestion-row\" style=\"float: left;\"> <div class=\"suggestion-error\">Found:</div>  <div class=\"highlight-code\" id=\"haskell\">y = \\ f -> (\\ h -> h h) (\\ x -> f (x x))</div> </div>  <div class=\"suggestion-row\" style=\"float: left;\"> <div class=\"suggestion-error\">Why Not:</div>  <div class=\"highlight-code\" id=\"haskell\">y f = (\\ h -> h h) (\\ x -> f (x x))</div> </div> "
       ],
       "metadata": {},
       "output_type": "display_data",
       "text": [
        "Line 1: Redundant lambda\n",
        "Found:\n",
        "y = \\ f -> (\\ h -> h h) (\\ x -> f (x x))\n",
        "Why not:\n",
        "y f = (\\ h -> h h) (\\ x -> f (x x))"
       ]
      },
      {
       "html": [
        "<span class='err-msg'>Occurs check: cannot construct the infinite type: t0 ~ t0 -> t<br/>Expected type: t0 -> t<br/>  Actual type: (t0 -> t) -> t<br/>Relevant bindings include<br/>  h :: (t0 -> t) -> t (bound at <interactive>:1:11)<br/>  f :: t -> t (bound at <interactive>:1:6)<br/>  y :: (t -> t) -> t (bound at <interactive>:1:1)<br/>In the first argument of \u2018h\u2019, namely \u2018h\u2019<br/>In the expression: h h<br/><br/>Occurs check: cannot construct the infinite type: t0 ~ t0 -> t<br/>Relevant bindings include<br/>  x :: t0 -> t (bound at <interactive>:1:21)<br/>  f :: t -> t (bound at <interactive>:1:6)<br/>  y :: (t -> t) -> t (bound at <interactive>:1:1)<br/>In the first argument of \u2018x\u2019, namely \u2018x\u2019<br/>In the first argument of \u2018f\u2019, namely \u2018(x x)\u2019</span>"
       ],
       "metadata": {},
       "output_type": "display_data",
       "text": [
        "Occurs check: cannot construct the infinite type: t0 ~ t0 -> t\n",
        "Expected type: t0 -> t\n",
        "  Actual type: (t0 -> t) -> t\n",
        "Relevant bindings include\n",
        "  h :: (t0 -> t) -> t (bound at <interactive>:1:11)\n",
        "  f :: t -> t (bound at <interactive>:1:6)\n",
        "  y :: (t -> t) -> t (bound at <interactive>:1:1)\n",
        "In the first argument of \u2018h\u2019, namely \u2018h\u2019\n",
        "In the expression: h h\n",
        "\n",
        "Occurs check: cannot construct the infinite type: t0 ~ t0 -> t\n",
        "Relevant bindings include\n",
        "  x :: t0 -> t (bound at <interactive>:1:21)\n",
        "  f :: t -> t (bound at <interactive>:1:6)\n",
        "  y :: (t -> t) -> t (bound at <interactive>:1:1)\n",
        "In the first argument of \u2018x\u2019, namely \u2018x\u2019\n",
        "In the first argument of \u2018f\u2019, namely \u2018(x x)\u2019"
       ]
      }
     ],
     "prompt_number": 1
    },
    {
     "cell_type": "code",
     "collapsed": false,
     "input": [
      "newtype Rec a = In { out :: Rec a -> a }"
     ],
     "language": "python",
     "metadata": {
      "hidden": false
     },
     "outputs": [],
     "prompt_number": 2
    },
    {
     "cell_type": "code",
     "collapsed": false,
     "input": [
      "y :: (a -> a) -> a\n",
      "y = \\f -> (\\x -> f (out x x)) (In (\\x -> f (out x x)))"
     ],
     "language": "python",
     "metadata": {
      "hidden": false
     },
     "outputs": [
      {
       "html": [
        " <div class=\"suggestion-name\" style=\"clear:both;\">Redundant lambda</div>  <div class=\"suggestion-row\" style=\"float: left;\"> <div class=\"suggestion-error\">Found:</div>  <div class=\"highlight-code\" id=\"haskell\">y = \\ f -> (\\ x -> f (out x x)) (In (\\ x -> f (out x x)))</div> </div>  <div class=\"suggestion-row\" style=\"float: left;\"> <div class=\"suggestion-error\">Why Not:</div>  <div class=\"highlight-code\" id=\"haskell\">y f = (\\ x -> f (out x x)) (In (\\ x -> f (out x x)))</div> </div> "
       ],
       "metadata": {},
       "output_type": "display_data",
       "text": [
        "Line 1: Redundant lambda\n",
        "Found:\n",
        "y = \\ f -> (\\ x -> f (out x x)) (In (\\ x -> f (out x x)))\n",
        "Why not:\n",
        "y f = (\\ x -> f (out x x)) (In (\\ x -> f (out x x)))"
       ]
      }
     ],
     "prompt_number": 3
    },
    {
     "cell_type": "code",
     "collapsed": false,
     "input": [
      ":t almostFib"
     ],
     "language": "python",
     "metadata": {
      "hidden": false
     },
     "outputs": [
      {
       "html": [
        "<span class='get-type'>almostFib :: forall a a1. (Num a1, Num a, Eq a1) => (a1 -> a) -> a1 -> a</span>"
       ],
       "metadata": {},
       "output_type": "display_data",
       "text": [
        "almostFib :: forall a a1. (Num a1, Num a, Eq a1) => (a1 -> a) -> a1 -> a"
       ]
      }
     ],
     "prompt_number": 16
    },
    {
     "cell_type": "markdown",
     "metadata": {
      "hidden": false
     },
     "source": [
      "h :: Rec a\n",
      "out h h -- (h h)\n",
      "\n",
      "g :: Rec a -> a\n",
      "g (In g) --- (g g)"
     ]
    },
    {
     "cell_type": "code",
     "collapsed": false,
     "input": [
      "almostFib f n\n",
      "    | n == 1 = 1\n",
      "    | n == 2 = 1\n",
      "    | otherwise = f (n-1) + f (n-2)"
     ],
     "language": "python",
     "metadata": {
      "hidden": false
     },
     "outputs": [],
     "prompt_number": 7
    },
    {
     "cell_type": "markdown",
     "metadata": {
      "hidden": false
     },
     "source": [
      "Assume f :: (A->B)->(A->B)\n",
      "out x ==> x:: Rec X\n",
      "out x ==> Rec X->X\n",
      "out x x ==> X\n",
      "f (out x x) ==> X=A->B\n",
      "x :: Rec (A->B)\n",
      "out x x :: A->B\n",
      "f (out x x) :: A->B\n",
      "\\x -> f (out x x) :: Re (A->B) -> (A->B)\n",
      "In (\\x -> f (out x x)) :: Re (A->B) with the same type as x"
     ]
    },
    {
     "cell_type": "code",
     "collapsed": false,
     "input": [
      ":t almostFib"
     ],
     "language": "python",
     "metadata": {
      "hidden": false
     },
     "outputs": [
      {
       "html": [
        "<span class='get-type'>almostFib 2 :: forall a a1. (Num (a1 -> a), Num a1, Num a, Eq a1) => a1 -> a</span>"
       ],
       "metadata": {},
       "output_type": "display_data",
       "text": [
        "almostFib 2 :: forall a a1. (Num (a1 -> a), Num a1, Num a, Eq a1) => a1 -> a"
       ]
      }
     ],
     "prompt_number": 25
    },
    {
     "cell_type": "code",
     "collapsed": false,
     "input": [
      "y almostFib 3"
     ],
     "language": "python",
     "metadata": {
      "hidden": false
     },
     "outputs": [
      {
       "metadata": {},
       "output_type": "display_data",
       "text": [
        "2"
       ]
      }
     ],
     "prompt_number": 15
    },
    {
     "cell_type": "markdown",
     "metadata": {
      "hidden": false
     },
     "source": [
      "y almostFib 3 ==>\n",
      "(\\f -> (\\x -> f (out x x)) (In (\\x -> f (out x x)))) almostFibs 3 ==>\n",
      "(\\x -> almostFibs (out x x)) (In (\\x -> almostFibs (out x x))) 3 ==>\n",
      "almostFibs (out (In (\\x -> almostFibs (out x x))) (In (\\x -> almostFibs (out x x)))) 3 ==>\n",
      "(out (In (\\x -> almostFibs (out x x))) (In (\\x -> almostFibs (out x x)))) 1 + (out (In (\\x -> almostFibs (out x x))) (In (\\x -> almostFibs (out x x)))) 2"
     ]
    },
    {
     "cell_type": "code",
     "collapsed": false,
     "input": [
      "fibs :: [Integer]\n",
      "fibs = y $ \\fbs -> 0 : 1 : y zipP fbs (tail fbs)\n",
      "  where zipP f (x:xs) (y:ys) = x+y : f xs ys"
     ],
     "language": "python",
     "metadata": {
      "hidden": false
     },
     "outputs": [],
     "prompt_number": 10
    },
    {
     "cell_type": "code",
     "collapsed": false,
     "input": [
      "take 10 fibs"
     ],
     "language": "python",
     "metadata": {
      "hidden": false
     },
     "outputs": [
      {
       "metadata": {},
       "output_type": "display_data",
       "text": [
        "[0,1,1,2,3,5,8,13,21,34]"
       ]
      }
     ],
     "prompt_number": 11
    }
   ],
   "metadata": {}
  }
 ]
}