{
 "metadata": {
  "language": "haskell",
  "name": "",
  "signature": "sha256:eb8961da1b36b068252fbe99fbc096ad57c06f2760e14740f970620511feb7d8"
 },
 "nbformat": 3,
 "nbformat_minor": 0,
 "worksheets": [
  {
   "cells": [
    {
     "cell_type": "markdown",
     "metadata": {
      "hidden": false
     },
     "source": [
      "$$y=\\lambda f. (\\lambda x. f (x\\ x)) (\\lambda x. f (x\\ x)) = \\lambda f. (\\lambda h. h\\ h) (\\lambda x. f (x\\ x))$$"
     ]
    },
    {
     "cell_type": "markdown",
     "metadata": {
      "hidden": false
     },
     "source": [
      "direct implementation does not fit in syntax"
     ]
    },
    {
     "cell_type": "code",
     "collapsed": false,
     "input": [
      "y = \\f->(\\h->h h) (\\x->f (x x))"
     ],
     "language": "python",
     "metadata": {
      "hidden": false
     },
     "outputs": [
      {
       "html": [
        " <div class=\"suggestion-name\" style=\"clear:both;\">Redundant lambda</div>  <div class=\"suggestion-row\" style=\"float: left;\"> <div class=\"suggestion-error\">Found:</div>  <div class=\"highlight-code\" id=\"haskell\">y = \\ f -> (\\ h -> h h) (\\ x -> f (x x))</div> </div>  <div class=\"suggestion-row\" style=\"float: left;\"> <div class=\"suggestion-error\">Why Not:</div>  <div class=\"highlight-code\" id=\"haskell\">y f = (\\ h -> h h) (\\ x -> f (x x))</div> </div> "
       ],
       "metadata": {},
       "output_type": "display_data",
       "text": [
        "Line 1: Redundant lambda\n",
        "Found:\n",
        "y = \\ f -> (\\ h -> h h) (\\ x -> f (x x))\n",
        "Why not:\n",
        "y f = (\\ h -> h h) (\\ x -> f (x x))"
       ]
      },
      {
       "html": [
        "<span class='err-msg'>Occurs check: cannot construct the infinite type: t0 ~ t0 -> t<br/>Expected type: t0 -> t<br/>  Actual type: (t0 -> t) -> t<br/>Relevant bindings include<br/>  h :: (t0 -> t) -> t (bound at <interactive>:1:11)<br/>  f :: t -> t (bound at <interactive>:1:6)<br/>  y :: (t -> t) -> t (bound at <interactive>:1:1)<br/>In the first argument of \u2018h\u2019, namely \u2018h\u2019<br/>In the expression: h h<br/><br/>Occurs check: cannot construct the infinite type: t0 ~ t0 -> t<br/>Relevant bindings include<br/>  x :: t0 -> t (bound at <interactive>:1:21)<br/>  f :: t -> t (bound at <interactive>:1:6)<br/>  y :: (t -> t) -> t (bound at <interactive>:1:1)<br/>In the first argument of \u2018x\u2019, namely \u2018x\u2019<br/>In the first argument of \u2018f\u2019, namely \u2018(x x)\u2019</span>"
       ],
       "metadata": {},
       "output_type": "display_data",
       "text": [
        "Occurs check: cannot construct the infinite type: t0 ~ t0 -> t\n",
        "Expected type: t0 -> t\n",
        "  Actual type: (t0 -> t) -> t\n",
        "Relevant bindings include\n",
        "  h :: (t0 -> t) -> t (bound at <interactive>:1:11)\n",
        "  f :: t -> t (bound at <interactive>:1:6)\n",
        "  y :: (t -> t) -> t (bound at <interactive>:1:1)\n",
        "In the first argument of \u2018h\u2019, namely \u2018h\u2019\n",
        "In the expression: h h\n",
        "\n",
        "Occurs check: cannot construct the infinite type: t0 ~ t0 -> t\n",
        "Relevant bindings include\n",
        "  x :: t0 -> t (bound at <interactive>:1:21)\n",
        "  f :: t -> t (bound at <interactive>:1:6)\n",
        "  y :: (t -> t) -> t (bound at <interactive>:1:1)\n",
        "In the first argument of \u2018x\u2019, namely \u2018x\u2019\n",
        "In the first argument of \u2018f\u2019, namely \u2018(x x)\u2019"
       ]
      }
     ],
     "prompt_number": 1
    },
    {
     "cell_type": "code",
     "collapsed": false,
     "input": [
      "newtype Rec a = In { out :: Rec a -> a }"
     ],
     "language": "python",
     "metadata": {
      "hidden": false
     },
     "outputs": [],
     "prompt_number": 2
    },
    {
     "cell_type": "markdown",
     "metadata": {
      "hidden": false
     },
     "source": [
      "Rec simulate self application\n",
      "\n",
      "h :: Rec a\n",
      "\n",
      "out h h :: a -- (h h)\n",
      "\n",
      "g :: Rec a -> a\n",
      "\n",
      "In g :: Rec a\n",
      "\n",
      "g (In g) :: a --- (g g)"
     ]
    },
    {
     "cell_type": "code",
     "collapsed": false,
     "input": [
      "y :: (a -> a) -> a\n",
      "y = \\f -> (\\x -> f (out x x)) (In (\\x -> f (out x x)))"
     ],
     "language": "python",
     "metadata": {},
     "outputs": [
      {
       "html": [
        " <div class=\"suggestion-name\" style=\"clear:both;\">Redundant lambda</div>  <div class=\"suggestion-row\" style=\"float: left;\"> <div class=\"suggestion-error\">Found:</div>  <div class=\"highlight-code\" id=\"haskell\">y = \\ f -> (\\ x -> f (out x x)) (In (\\ x -> f (out x x)))</div> </div>  <div class=\"suggestion-row\" style=\"float: left;\"> <div class=\"suggestion-error\">Why Not:</div>  <div class=\"highlight-code\" id=\"haskell\">y f = (\\ x -> f (out x x)) (In (\\ x -> f (out x x)))</div> </div> "
       ],
       "metadata": {},
       "output_type": "display_data",
       "text": [
        "Line 1: Redundant lambda\n",
        "Found:\n",
        "y = \\ f -> (\\ x -> f (out x x)) (In (\\ x -> f (out x x)))\n",
        "Why not:\n",
        "y f = (\\ x -> f (out x x)) (In (\\ x -> f (out x x)))"
       ]
      }
     ],
     "prompt_number": 3
    },
    {
     "cell_type": "code",
     "collapsed": false,
     "input": [
      "almostFib f n\n",
      "    | n == 1 = 1\n",
      "    | n == 2 = 1\n",
      "    | otherwise = f (n-1) + f (n-2)"
     ],
     "language": "python",
     "metadata": {
      "hidden": false
     },
     "outputs": [],
     "prompt_number": 5
    },
    {
     "cell_type": "code",
     "collapsed": false,
     "input": [
      ":t almostFib"
     ],
     "language": "python",
     "metadata": {
      "hidden": false
     },
     "outputs": [
      {
       "html": [
        "<span class='get-type'>almostFib :: forall a a1. (Num a1, Num a, Eq a1) => (a1 -> a) -> a1 -> a</span>"
       ],
       "metadata": {},
       "output_type": "display_data",
       "text": [
        "almostFib :: forall a a1. (Num a1, Num a, Eq a1) => (a1 -> a) -> a1 -> a"
       ]
      }
     ],
     "prompt_number": 10
    },
    {
     "cell_type": "markdown",
     "metadata": {
      "hidden": false
     },
     "source": [
      "y almostFib 3 ==>\n",
      "\n",
      "(\\f -> (\\x -> f (out x x)) (In (\\x -> f (out x x)))) almostFibs 3 ==>\n",
      "\n",
      "(\\x -> almostFibs (out x x)) (In (\\x -> almostFibs (out x x))) 3 ==>\n",
      "\n",
      "almostFibs (out (In (\\x -> almostFibs (out x x))) (In (\\x -> almostFibs (out x x)))) 3 ==>\n",
      "\n",
      "(out (In (\\x -> almostFibs (out x x))) (In (\\x -> almostFibs (out x x)))) 1 + (out (In (\\x -> almostFibs (out x x))) (In (\\x -> almostFibs (out x x)))) 2\n",
      "\n",
      "Notice out In x = x, y almostFib 3 -> y almostFib 1 + y y almostFib 2"
     ]
    },
    {
     "cell_type": "markdown",
     "metadata": {
      "hidden": false
     },
     "source": [
      "Assume f :: A->A\n",
      "\n",
      "out x ==> x:: Rec X for some X\n",
      "\n",
      "out x :: Rec X->X\n",
      "\n",
      "out x x :: X\n",
      "\n",
      "f (out x x) ==> X is A, so\n",
      "\n",
      "x :: Rec A\n",
      "\n",
      "out x x :: A\n",
      "\n",
      "f (out x x) :: A\n",
      "\n",
      "\\x -> f (out x x) :: Re A -> A\n",
      "\n",
      "In (\\x -> f (out x x)) :: Re A is indeed the same type as x"
     ]
    },
    {
     "cell_type": "code",
     "collapsed": false,
     "input": [
      "y almostFib 10"
     ],
     "language": "python",
     "metadata": {
      "hidden": false
     },
     "outputs": [
      {
       "metadata": {},
       "output_type": "display_data",
       "text": [
        "55"
       ]
      }
     ],
     "prompt_number": 11
    },
    {
     "cell_type": "code",
     "collapsed": false,
     "input": [
      "y (\\x->1)"
     ],
     "language": "python",
     "metadata": {
      "hidden": false
     },
     "outputs": [
      {
       "html": [
        " <div class=\"suggestion-name\" style=\"clear:both;\">Use const</div>  <div class=\"suggestion-row\" style=\"float: left;\"> <div class=\"suggestion-warning\">Found:</div>  <div class=\"highlight-code\" id=\"haskell\">\\ x -> 1</div> </div>  <div class=\"suggestion-row\" style=\"float: left;\"> <div class=\"suggestion-warning\">Why Not:</div>  <div class=\"highlight-code\" id=\"haskell\">const 1</div> </div> "
       ],
       "metadata": {},
       "output_type": "display_data",
       "text": [
        "Line 1: Use const\n",
        "Found:\n",
        "\\ x -> 1\n",
        "Why not:\n",
        "const 1"
       ]
      },
      {
       "metadata": {},
       "output_type": "display_data",
       "text": [
        "1"
       ]
      }
     ],
     "prompt_number": 12
    },
    {
     "cell_type": "markdown",
     "metadata": {
      "hidden": false
     },
     "source": [
      "```haskell\n",
      "y (\\x->x)\n",
      "```\n",
      "\n",
      "will not halt"
     ]
    }
   ],
   "metadata": {}
  }
 ]
}